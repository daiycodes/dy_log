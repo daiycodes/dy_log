{
 "cells": [
  {
   "cell_type": "markdown",
   "id": "998ff5b3",
   "metadata": {},
   "source": [
    "# 0. 환경설정"
   ]
  },
  {
   "cell_type": "code",
   "execution_count": null,
   "id": "ce864f4b",
   "metadata": {},
   "outputs": [
    {
     "name": "stderr",
     "output_type": "stream",
     "text": [
      "/Library/Frameworks/Python.framework/Versions/3.11/lib/python3.11/site-packages/tqdm/auto.py:21: TqdmWarning: IProgress not found. Please update jupyter and ipywidgets. See https://ipywidgets.readthedocs.io/en/stable/user_install.html\n",
      "  from .autonotebook import tqdm as notebook_tqdm\n"
     ]
    }
   ],
   "source": [
    "import re\n",
    "import os\n",
    "import logging\n",
    "import json\n",
    "from pymongo import MongoClient\n",
    "from dotenv import load_dotenv\n",
    "import pandas as pd\n",
    "from langchain_openai import ChatOpenAI\n",
    "from langchain_core.output_parsers import StrOutputParser\n",
    "from langchain_core.prompts import ChatPromptTemplate"
   ]
  },
  {
   "cell_type": "code",
   "execution_count": null,
   "id": "c405362f",
   "metadata": {},
   "outputs": [],
   "source": [
    "# 환경 변수 로드 및 로깅 설정\n",
    "load_dotenv()\n",
    "logging.basicConfig(level=logging.INFO, format='%(asctime)s - %(name)s - %(levelname)s - %(message)s')\n",
    "logger = logging.getLogger(__name__)\n",
    "\n",
    "# 로그 저장 디렉토리 설정\n",
    "LOG_DIR = \"chat_logs\"\n",
    "os.makedirs(LOG_DIR, exist_ok=True)\n",
    "\n",
    "# MongoDB 클라이언트 설정\n",
    "MONGO_IP = os.getenv(\"MONGO_IP\")\n",
    "MONGO_PORT = int(os.getenv(\"MONGO_PORT\"))\n",
    "MONGO_USER = os.getenv(\"MONGO_USER\")\n",
    "MONGO_PASSWORD = os.getenv(\"MONGO_PASSWORD\")\n",
    "\n",
    "# 연결 URI 생성\n",
    "mongo_uri = f\"mongodb://{MONGO_USER}:{MONGO_PASSWORD}@{MONGO_IP}:{MONGO_PORT}/?authSource=admin\"\n",
    "client = MongoClient(mongo_uri)\n",
    "\n",
    "db = client['chatbot_db']\n",
    "collection = db['processed_chats']"
   ]
  },
  {
   "cell_type": "code",
   "execution_count": 9,
   "id": "8acf7c1c",
   "metadata": {},
   "outputs": [],
   "source": [
    "#----1. 모델 정의----\n",
    "model = ChatOpenAI(\n",
    "    model_name='gpt-4o-mini',\n",
    "    temperature=0\n",
    ")"
   ]
  },
  {
   "cell_type": "markdown",
   "id": "e38ff7c6",
   "metadata": {},
   "source": [
    "# 1. 전처리"
   ]
  },
  {
   "cell_type": "markdown",
   "id": "af8a00b0",
   "metadata": {},
   "source": [
    "### 1-1. txt -> xlsx"
   ]
  },
  {
   "cell_type": "code",
   "execution_count": null,
   "id": "c161b7d1",
   "metadata": {},
   "outputs": [
    {
     "name": "stdout",
     "output_type": "stream",
     "text": [
      "'whatsapp_exports_Navid' 폴더의 txt 파일들을 'whatsapp_exports_Navid.xlsx'로 저장 완료\n",
      "'whatsapp_exports_Hadi' 폴더의 txt 파일들을 'whatsapp_exports_Hadi.xlsx'로 저장 완료\n",
      "'whatsapp_exports_Hassan' 폴더의 txt 파일들을 'whatsapp_exports_Hassan.xlsx'로 저장 완료\n",
      "'whatsapp_exports_Jalral' 폴더의 txt 파일들을 'whatsapp_exports_Jalral.xlsx'로 저장 완료\n",
      "'whatsapp_exports_Haroon' 폴더의 txt 파일들을 'whatsapp_exports_Haroon.xlsx'로 저장 완료\n",
      "'whatsapp_exports_Anjila' 폴더의 txt 파일들을 'whatsapp_exports_Anjila.xlsx'로 저장 완료\n",
      "'whatsapp_exports_Omid' 폴더의 txt 파일들을 'whatsapp_exports_Omid.xlsx'로 저장 완료\n",
      "'whatsapp_exports_Bhram' 폴더의 txt 파일들을 'whatsapp_exports_Bhram.xlsx'로 저장 완료\n"
     ]
    }
   ],
   "source": [
    "# txt -> df\n",
    "\n",
    "import pandas as pd\n",
    "import os\n",
    "\n",
    "# 원본 데이터가 있는 상위 폴더 경로\n",
    "root_folder_path = \"/Users/sdyplum/Desktop/DSCAP/Whatsapp_Crawling_Data/All_chats/Chats\"\n",
    "\n",
    "# 엑셀 파일을 저장할 폴더 경로\n",
    "output_folder_path = \"/Users/sdyplum/Desktop/DSCAP/DataScience_Capstone/data_preprocessing\"\n",
    "\n",
    "# 1. os.walk()로 상위 폴더부터 모든 하위 폴더 순회\n",
    "# root: 현재 순회 중인 폴더 경로\n",
    "# dirs: 현재 폴더에 있는 하위 폴더들 리스트\n",
    "# files: 현재 폴더에 있는 파일들 리스트\n",
    "\n",
    "for root, dirs, files in os.walk(root_folder_path):\n",
    "    data = [] # 현재 폴더의 데이터를 담을 리스트 (매번 초기화)\n",
    "    \n",
    "    # 3. 현재 폴더 파일 순회\n",
    "    for file_name in files:\n",
    "        if file_name.endswith(\".txt\"):\n",
    "            file_path = os.path.join(root, file_name)\n",
    "            try:\n",
    "                with open(file_path, \"r\", encoding=\"utf-8\") as f:\n",
    "                    content = f.read()\n",
    "                data.append([file_name, content])\n",
    "            except Exception as e:\n",
    "                print(f\"파일 읽기 오류 '{file_path}': {e}\")\n",
    "    \n",
    "    # 4. 현재 폴더에 처리할 txt 파일이 있었다면 데이터프레임 생성 및 저장\n",
    "    if data:\n",
    "        current_folder_name = os.path.basename(root)\n",
    "        df = pd.DataFrame(data, columns=[\"file_name\", \"content\"])\n",
    "        output_file_path = os.path.join(output_folder_path, f\"{current_folder_name}.xlsx\")\n",
    "    \n",
    "        df.to_excel(output_file_path, index=False, engine=\"openpyxl\")\n",
    "        print(f\"'{current_folder_name}' 폴더의 txt 파일들을 '{current_folder_name}.xlsx'로 저장 완료\")"
   ]
  },
  {
   "cell_type": "code",
   "execution_count": null,
   "id": "1718e46d",
   "metadata": {},
   "outputs": [
    {
     "name": "stdout",
     "output_type": "stream",
     "text": [
      "총 8개의 엑셀 파일을 병합합니다.\n",
      " - 'whatsapp_exports_Anjila.xlsx' 파일 로드 완료\n",
      " - 'whatsapp_exports_Navid.xlsx' 파일 로드 완료\n",
      " - 'whatsapp_exports_Haroon.xlsx' 파일 로드 완료\n",
      " - 'whatsapp_exports_Bhram.xlsx' 파일 로드 완료\n",
      " - 'whatsapp_exports_Jalral.xlsx' 파일 로드 완료\n",
      " - 'whatsapp_exports_Hadi.xlsx' 파일 로드 완료\n",
      " - 'whatsapp_exports_Omid.xlsx' 파일 로드 완료\n",
      " - 'whatsapp_exports_Hassan.xlsx' 파일 로드 완료\n",
      "결과가 '/Users/sdyplum/Desktop/DSCAP/DataScience_Capstone/data_preprocessing/merged_files.xlsx' 파일에 저장되었습니다.\n"
     ]
    }
   ],
   "source": [
    "cwd = os.getcwd()\n",
    "\n",
    "folder_path = cwd\n",
    "output_file = os.path.join(cwd, 'merged_files.xlsx')\n",
    "\n",
    "# 1. .xlsx 확장자를 가진 모든 파일 목록 가져오기\n",
    "all_files = os.listdir(folder_path)\n",
    "excel_files = [f for f in all_files if f.endswith('.xlsx')]\n",
    "\n",
    "if not excel_files:\n",
    "    print(\"지정된 폴더에 엑셀 파일(.xlsx)이 없습니다.\")\n",
    "else:\n",
    "    print(f\"총 {len(excel_files)}개의 엑셀 파일을 병합합니다.\")\n",
    "    \n",
    "    # 2. 각 엑셀 파일을 순서대로 읽어 데이터프레임 리스트에 추가\n",
    "    df_list = []\n",
    "    for file_name in excel_files:\n",
    "        file_path = os.path.join(folder_path, file_name)\n",
    "        df = pd.read_excel(file_path)\n",
    "        df_list.append(df)\n",
    "        print(f\" - '{file_name}' 파일 로드 완료\")\n",
    "\n",
    "    # 3. 데이터프레임 리스트를 하나로 합치기\n",
    "    merged_df = pd.concat(df_list, ignore_index=True) \n",
    "\n",
    "    # 4. 병합된 데이터프레임을 새로운 엑셀 파일로 저장\n",
    "    merged_df.to_excel(output_file, index=False, engine='openpyxl')\n",
    "\n",
    "    print(f\"결과가 '{output_file}' 파일에 저장되었습니다.\")"
   ]
  },
  {
   "cell_type": "markdown",
   "id": "88c55fbf",
   "metadata": {},
   "source": [
    "### 1-2. 시스템 메시지 + 이모티콘 제거"
   ]
  },
  {
   "cell_type": "code",
   "execution_count": null,
   "id": "a5208057",
   "metadata": {},
   "outputs": [],
   "source": [
    "# 데이터 불러오기\n",
    "df = pd.read_excel(\"merged_files.xlsx\")\n",
    "\n",
    "def clean_chat_text(text: str) -> str:\n",
    "    # 1. 불필요한 안내 문구 제거\n",
    "    text = re.sub(r\"Messages and calls are end-to-end encrypted.*?\\n\", \"\", text)\n",
    "    text = re.sub(r\"Welcome to the chat:.*?\\n\", \"\", text)\n",
    "\n",
    "    # 2. 특수문자/이모지 제거\n",
    "    text = re.sub(r\"[^\\w\\s\\[\\]:\\u0600-\\u06FF\\u0750-\\u077F\\u08A0-\\u08FF]\", \" \", text)\n",
    "    # (아랍/파슈토/다리어 문자 범위는 보존)\n",
    "    \n",
    "    # 3. 줄바꿈 제거 \n",
    "    text = text.replace(\"\\n\", \"\")\n",
    "\n",
    "    return text\n",
    "\n",
    "# content 열 전처리 적용\n",
    "df[\"clean_content\"] = df[\"content\"].apply(clean_chat_text)\n",
    "\n",
    "# 중복 제거\n",
    "df = df.drop_duplicates(subset=[\"clean_content\"]).reset_index(drop=True)"
   ]
  },
  {
   "cell_type": "markdown",
   "id": "38ae1961",
   "metadata": {},
   "source": [
    "### 1-3. 기계적인 메시지 삭제"
   ]
  },
  {
   "cell_type": "code",
   "execution_count": null,
   "id": "03db51f9",
   "metadata": {},
   "outputs": [
    {
     "name": "stdout",
     "output_type": "stream",
     "text": [
      "                file_name                                      clean_content\n",
      "0     _93 77 594 1073.txt    93 77 594 1073 [4:56 PM]    93 77 594 1073: ...\n",
      "1     _93 74 967 6191.txt    93 74 967 6191 [5:59 PM]    93 74 967 6191: ...\n",
      "2     _93 79 795 2761.txt    93 79 795 2761 [11:13 PM]    93 79 795 2761:...\n",
      "3     _93 78 811 6598.txt    93 78 811 6598 [2:26 PM]    93 78 811 6598: ...\n",
      "4     _93 78 653 4544.txt    93 78 653 4544 [1:37 PM]    93 78 653 4544: ...\n",
      "...                   ...                                                ...\n",
      "3478  _93 77 109 4210.txt    93 77 109 4210 [1:38 PM]   You: برای شناخت ا...\n",
      "3479  _93 79 296 9055.txt          93 79 296 9055 [12:30 PM]   You: 12:30 PM\n",
      "3480  _93 78 926 2123.txt    93 78 926 2123 [4:48 PM]   You: درود بر شما ...\n",
      "3481  _93 74 982 7240.txt    93 74 982 7240 [8:41 PM]   You: نه محترمکار ...\n",
      "3483  _93 70 663 4501.txt    93 70 663 4501 [11:41 PM]   You: سلام به تلگ...\n",
      "\n",
      "[3018 rows x 2 columns]\n"
     ]
    }
   ],
   "source": [
    "# 삭제할 키워드 목록\n",
    "unwanted_keywords = [\n",
    "    \"wds-ill-ads-WA.st0\",\n",
    "    \"chat-filled-refreshed2\",\n",
    "    \"megaphone-refreshed-32\"\n",
    "]\n",
    "\n",
    "# 삭제할 키워드들을 '|'로 묶어 하나의 검색 정규식으로 만들기\n",
    "search_pattern = '|'.join(unwanted_keywords)\n",
    "\n",
    "# 1. 키워드가 포함된 행을 찾고, 그 결과를 '~'로 뒤집고, 키워드가 포함되지 않은 행만 선택하여 바로 새로운 데이터프레임 생성\n",
    "df_filtered = df[~df.apply(lambda x: x.astype(str).str.contains(search_pattern, na=False)).any(axis=1)]\n",
    "\n",
    "# 2. 전처리 이전 내용 저장된 컬럼 content 삭제\n",
    "df_filtered = df_filtered.drop('content', axis=1)\n",
    "\n",
    "# 3. 최종적으로 제거된 데이터 저장\n",
    "df_filtered.to_excel(\"merged_cleaned.xlsx\", index=False, engine=\"openpyxl\")\n",
    "\n",
    "print(df_filtered)"
   ]
  },
  {
   "cell_type": "markdown",
   "id": "d6ccb69e",
   "metadata": {},
   "source": [
    "### 1-4. AI 활용하여 사적인 대화 판별 후 삭제"
   ]
  },
  {
   "cell_type": "code",
   "execution_count": 19,
   "id": "79873092",
   "metadata": {},
   "outputs": [
    {
     "name": "stderr",
     "output_type": "stream",
     "text": [
      "2025-09-16 21:55:41,456 - httpx - INFO - HTTP Request: POST https://api.openai.com/v1/chat/completions \"HTTP/1.1 200 OK\"\n"
     ]
    },
    {
     "data": {
      "text/plain": [
       "'사적인 대화라고 판단되는 행의 번호는 다음과 같습니다:\\n\\n- 3015\\n- 3016\\n- 3017'"
      ]
     },
     "execution_count": 19,
     "metadata": {},
     "output_type": "execute_result"
    }
   ],
   "source": [
    "df = pd.read_excel(\"merged_cleaned.xlsx\")\n",
    "data = df\n",
    "\n",
    "system = \"\"\"\n",
    "당신은 데이터 감별사입니다. 입력받은 파일의 데이터 중 사적인 데이터를 감별하여 반환합니다. \n",
    "사적인 대화는 모르는 사람과 대화하는 것이 아닌, 친근한 대화를 의미합니다.\n",
    "사적인 대화라고 판단된다면 해당하는 행의 번호를 반환합니다. \n",
    "\"\"\"\n",
    "\n",
    "prompt = ChatPromptTemplate.from_messages([(\"system\", system), (\"human\", \"{data}\")])\n",
    "chain = prompt | model | StrOutputParser()\n",
    "\n",
    "out = chain.invoke({\"data\": data})\n",
    "out"
   ]
  },
  {
   "cell_type": "markdown",
   "id": "fad2cc06",
   "metadata": {},
   "source": [
    "# df -> JSON"
   ]
  },
  {
   "cell_type": "markdown",
   "id": "746fa5c1",
   "metadata": {},
   "source": [
    "### 2-1. JSON 형태로 변환 테스트"
   ]
  },
  {
   "cell_type": "code",
   "execution_count": null,
   "id": "77217b11",
   "metadata": {},
   "outputs": [
    {
     "name": "stderr",
     "output_type": "stream",
     "text": [
      "2025-09-16 22:15:03,889 - httpx - INFO - HTTP Request: POST https://api.openai.com/v1/chat/completions \"HTTP/1.1 200 OK\"\n"
     ]
    },
    {
     "name": "stdout",
     "output_type": "stream",
     "text": [
      "--- 처리 완료: _93 77 594 1073.txt ---\n",
      "```json\n",
      "{\n",
      "    \"name\": \"93 77 594 1073\",\n",
      "    \"content\": [\n",
      "        {\n",
      "            \"name\": \"93 77 594 1073\",\n",
      "            \"time\": \"4:56 PM\",\n",
      "            \"message\": \"Hello  Can I get more info on this\"\n",
      "        },\n",
      "        {\n",
      "            \"name\": \"You\",\n",
      "            \"time\": \"4:56 PM\",\n",
      "            \"message\": \"از تماس شما با کلیسای زنان افغانستان سپاس گزاریم  لطفا بفرمایید چگونه می توانیم کمکتان کنیم\"\n",
      "        },\n",
      "        {\n",
      "            \"name\": \"93 77 594 1073\",\n",
      "            \"time\": \"4:56 PM\",\n",
      "            \"message\": \"خو\"\n",
      "        },\n",
      "        {\n",
      "            \"name\": \"You\",\n",
      "            \"time\": \"6:37 PM\",\n",
      "            \"message\": \"خواهر  برادر عزیز این انجیل را مطالعه کنید و در تعلیمات و جلسات ما اشتراک کنید؟؟\"\n",
      "        },\n",
      "        {\n",
      "            \"name\": \"You\",\n",
      "            \"time\": \"6:37 PM\",\n",
      "            \"message\": \"یوحنا دری pdf\"\n",
      "        },\n",
      "        {\n",
      "            \"name\": \"You\",\n",
      "            \"time\": \"6:37 PM\",\n",
      "            \"message\": \"خواهر   برادر عزیز بعداز مطالعه این کتاب لطفاً از تلگرام پیام بگذارید؟ چو برنامه های تعلیمی و پرستشی و همه روی تلگرام است برکت خداوند بر شما باد شماره وتساپ  ادمین  0012044102606شماره تلگرام ادمین:0014099951267لینک تلگرام آدمین: https:  t me salibezananلینگ وتساپ آدمین:   https:  wa me 12044102606\"\n",
      "        },\n",
      "        {\n",
      "            \"name\": \"You\",\n",
      "            \"time\": \"6:37 PM\",\n",
      "            \"message\": \"این دعای نجات است اگر میخواهید به عیسی مسیح ایمان بیاورید این دعا را به صدای بلند بی خوانید ثبت کرده برای ما ارسال کنید تا عضوی کلیسای امید افغانستان شوید    و برای ادامه درس های آنلاین از تلگرام پیام بگذارید تا شما را در جلسات آنلاین دعوت کنیم تعلیم بیگرید صحبت کنید و برای افغانستان در دعا باشیم برکت خداوند با شما آمین\"\n",
      "        },\n",
      "        {\n",
      "            \"name\": \"You\",\n",
      "            \"time\": \"6:37 PM\",\n",
      "            \"message\": \"\"\n",
      "        },\n",
      "        {\n",
      "            \"name\": \"93 77 594 1073\",\n",
      "            \"time\": \"10:35 PM\",\n",
      "            \"message\": \"\"\n",
      "        },\n",
      "        {\n",
      "            \"name\": \"You\",\n",
      "            \"time\": \"10:55 PM\",\n",
      "            \"message\": \"بلی\"\n",
      "        },\n",
      "        {\n",
      "            \"name\": \"93 77 594 1073\",\n",
      "            \"time\": \"11:04 PM\",\n",
      "            \"message\": \"خو\"\n",
      "        },\n",
      "        {\n",
      "            \"name\": \"93 77 594 1073\",\n",
      "            \"time\": \"11:04 PM\",\n",
      "            \"message\": \"از کجا هستی\"\n",
      "        }\n",
      "    ]\n",
      "}\n",
      "```\n"
     ]
    },
    {
     "name": "stderr",
     "output_type": "stream",
     "text": [
      "2025-09-16 22:15:12,637 - httpx - INFO - HTTP Request: POST https://api.openai.com/v1/chat/completions \"HTTP/1.1 200 OK\"\n"
     ]
    },
    {
     "name": "stdout",
     "output_type": "stream",
     "text": [
      "--- 처리 완료: _93 74 967 6191.txt ---\n",
      "```json\n",
      "{\n",
      "    \"name\": \"93 74 967 6191\",\n",
      "    \"content\": [\n",
      "        {\n",
      "            \"name\": \"93 74 967 6191\",\n",
      "            \"time\": \"5:59 PM\",\n",
      "            \"message\": \"سلام\"\n",
      "        },\n",
      "        {\n",
      "            \"name\": \"You\",\n",
      "            \"time\": \"5:59 PM\",\n",
      "            \"message\": \"از تماس شما با کلیسای زنان افغانستان سپاس گزاریم  لطفا بفرمایید چگونه می توانیم کمکتان کنیم\"\n",
      "        },\n",
      "        {\n",
      "            \"name\": \"You\",\n",
      "            \"time\": \"7:55 PM\",\n",
      "            \"message\": \"خواهر  برادر عزیز این انجیل را مطالعه کنید و در تعلیمات و جلسات ما اشتراک کنید؟؟\"\n",
      "        },\n",
      "        {\n",
      "            \"name\": \"You\",\n",
      "            \"time\": \"7:55 PM\",\n",
      "            \"message\": \"یوحنا دری pdf\"\n",
      "        },\n",
      "        {\n",
      "            \"name\": \"You\",\n",
      "            \"time\": \"7:55 PM\",\n",
      "            \"message\": \"خواهر   برادر عزیز بعداز مطالعه این کتاب لطفاً از تلگرام پیام بگذارید؟ چو برنامه های تعلیمی و پرستشی و همه روی تلگرام است برکت خداوند بر شما باد شماره وتساپ  ادمین  0012044102606شماره تلگرام ادمین:0014099951267لینک تلگرام آدمین: https:  t me salibezananلینگ وتساپ آدمین:   https:  wa me 12044102606\"\n",
      "        },\n",
      "        {\n",
      "            \"name\": \"You\",\n",
      "            \"time\": \"7:55 PM\",\n",
      "            \"message\": \"این دعای نجات است اگر میخواهید به عیسی مسیح ایمان بیاورید این دعا را به صدای بلند بی خوانید ثبت کرده برای ما ارسال کنید تا عضوی کلیسای امید افغانستان شوید    و برای ادامه درس های آنلاین از تلگرام پیام بگذارید تا شما را در جلسات آنلاین دعوت کنیم تعلیم بیگرید صحبت کنید و برای افغانستان در دعا باشیم برکت خداوند با شما آمین\"\n",
      "        },\n",
      "        {\n",
      "            \"name\": \"You\",\n",
      "            \"time\": \"7:55 PM\",\n",
      "            \"message\": \"7:55 PM\"\n",
      "        }\n",
      "    ]\n",
      "}\n",
      "```\n"
     ]
    },
    {
     "name": "stderr",
     "output_type": "stream",
     "text": [
      "2025-09-16 22:15:23,469 - httpx - INFO - HTTP Request: POST https://api.openai.com/v1/chat/completions \"HTTP/1.1 200 OK\"\n"
     ]
    },
    {
     "name": "stdout",
     "output_type": "stream",
     "text": [
      "--- 처리 완료: _93 79 795 2761.txt ---\n",
      "```json\n",
      "{\n",
      "    \"name\": \"93 79 795 2761\",\n",
      "    \"content\": [\n",
      "        {\n",
      "            \"name\": \"93 79 795 2761\",\n",
      "            \"time\": \"11:13 PM\",\n",
      "            \"message\": \"Hello  Can I get more info on this\"\n",
      "        },\n",
      "        {\n",
      "            \"name\": \"You\",\n",
      "            \"time\": \"11:13 PM\",\n",
      "            \"message\": \"از تماس شما با کلیسای زنان افغانستان سپاس گزاریم  لطفا بفرمایید چگونه می توانیم کمکتان کنیم\"\n",
      "        },\n",
      "        {\n",
      "            \"name\": \"You\",\n",
      "            \"time\": \"3:15 AM\",\n",
      "            \"message\": \"خواهر  برادر عزیز این انجیل را مطالعه کنید و در تعلیمات و جلسات ما اشتراک کنید؟؟\"\n",
      "        },\n",
      "        {\n",
      "            \"name\": \"You\",\n",
      "            \"time\": \"3:15 AM\",\n",
      "            \"message\": \"یوحنا دری pdf\"\n",
      "        },\n",
      "        {\n",
      "            \"name\": \"You\",\n",
      "            \"time\": \"3:15 AM\",\n",
      "            \"message\": \"خواهر   برادر عزیز بعداز مطالعه این کتاب لطفاً از تلگرام پیام بگذارید؟ چو برنامه های تعلیمی و پرستشی و همه روی تلگرام است برکت خداوند بر شما باد شماره وتساپ  ادمین  0012044102606شماره تلگرام ادمین:0014099951267لینک تلگرام آدمین: https:  t me salibezananلینگ وتساپ آدمین:   https:  wa me 12044102606\"\n",
      "        },\n",
      "        {\n",
      "            \"name\": \"You\",\n",
      "            \"time\": \"3:15 AM\",\n",
      "            \"message\": \"این دعای نجات است اگر میخواهید به عیسی مسیح ایمان بیاورید این دعا را به صدای بلند بی خوانید ثبت کرده برای ما ارسال کنید تا عضوی کلیسای امید افغانستان شوید    و برای ادامه درس های آنلاین از تلگرام پیام بگذارید تا شما را در جلسات آنلاین دعوت کنیم تعلیم بیگرید صحبت کنید و برای افغانستان در دعا باشیم برکت خداوند با شما آمین\"\n",
      "        },\n",
      "        {\n",
      "            \"name\": \"You\",\n",
      "            \"time\": \"3:15 AM\",\n",
      "            \"message\": \"3:15 AM\"\n",
      "        }\n",
      "    ]\n",
      "}\n",
      "```\n"
     ]
    }
   ],
   "source": [
    "# 1. 엑셀 파일 읽기\n",
    "df1 = pd.read_excel(\"merged_cleaned.xlsx\")\n",
    "data = df1[:3]\n",
    "\n",
    "# 2. 프롬프트 템플릿 수정\n",
    "system_template = \"\"\"\n",
    "당신은 텍스트 형식의 대화 로그를 구조화된 JSON 데이터로 변환하는 역할입니다. \n",
    "아래에 제시된 규칙과 형식에 따라 주어진 대화 내용을 JSON으로 변환하세요.\n",
    "\n",
    "### 최종 JSON 구조:\n",
    "{{\n",
    "    \"name\": \"{file_name}\",\n",
    "    \"content\": [\n",
    "        {{\n",
    "            \"name\": \"발신자 이름 또는 번호\",\n",
    "            \"time\": \"발신 시간\",\n",
    "            \"message\": \"메시지 내용\"\n",
    "        }}\n",
    "    ]\n",
    "}}\n",
    "\n",
    "### 변환 규칙:\n",
    "1. 최상위 'name': 전체 대화를 대표하는 이름으로, 제공된 {file_name} 값을 사용한다.\n",
    "2. 'content' 배열: 아래 대화 내용의 각 줄을 하나의 JSON 객체로 변환하여 이 배열에 순서대로 추가한다.\n",
    "3. 개별 메시지 객체 분석:\n",
    "    * 'time': 각 줄의 시작 부분에 있는 대괄호 `[...]` 안의 시간 정보(예: '4 56 PM')를 추출하여 할당한다.\n",
    "    * 'name': 시간 정보 바로 뒤에 나오는 발신자 정보('You' 또는 전화번호)를 추출하여 할당한다.\n",
    "    * 'message': 발신자 정보 뒤에 나오는 해당 줄의 모든 나머지 텍스트를 메시지 내용으로 간주하여 할당한다.\n",
    "\n",
    "### 변환할 대화 내용:\n",
    "{conversation_text}\n",
    "\"\"\"\n",
    "\n",
    "prompt = ChatPromptTemplate.from_template(system_template)\n",
    "chain = prompt | model | StrOutputParser()\n",
    "\n",
    "# 3. 데이터프레임을 한 줄씩 처리\n",
    "results = []\n",
    "for index, row in data.iterrows():\n",
    "    file_name = row['file_name']\n",
    "    conversation = row['clean_content']\n",
    "\n",
    "    out = chain.invoke({\n",
    "        \"file_name\": re.sub(r'[^\\d\\s]', '', file_name),\n",
    "        \"conversation_text\": conversation\n",
    "    })\n",
    "    results.append(out)\n",
    "    print(f\"--- 처리 완료: {file_name} ---\")\n",
    "    print(out)"
   ]
  },
  {
   "cell_type": "markdown",
   "id": "4e6eae1d",
   "metadata": {},
   "source": [
    "### 2-2. JSON 형태로 변환 후 MongoDB에 저장\n",
    "- MongoDB에 미리 접속해야 함"
   ]
  },
  {
   "cell_type": "code",
   "execution_count": null,
   "id": "c7daa7dc",
   "metadata": {},
   "outputs": [],
   "source": [
    "# --- 1. MongoDB 연결 설정 ---\n",
    "db = client['chatbot_db']\n",
    "collection = db['processed_chats']\n",
    "\n",
    "# --- 2. 엑셀 파일 및 LLM 체인 준비 ---\n",
    "df = pd.read_excel(\"merged_cleaned.xlsx\")\n",
    "data = df\n",
    "\n",
    "system_template = \"\"\"\n",
    "당신은 텍스트 형식의 대화 로그를 구조화된 JSON 데이터로 변환하는 역할입니다. \n",
    "아래에 제시된 규칙과 형식에 따라 주어진 대화 내용을 JSON으로 변환하세요.\n",
    "\n",
    "### 최종 JSON 구조:\n",
    "{{\n",
    "    \"name\": \"{file_name}\",\n",
    "    \"content\": [\n",
    "        {{\n",
    "            \"name\": \"발신자 이름 또는 번호\",\n",
    "            \"time\": \"발신 시간\",\n",
    "            \"message\": \"메시지 내용\"\n",
    "        }}\n",
    "    ]\n",
    "}}\n",
    "\n",
    "### 변환 규칙:\n",
    "1. 최상위 'name': 전체 대화를 대표하는 이름으로, 제공된 {file_name} 값을 사용한다.\n",
    "2. 'content' 배열: 아래 대화 내용의 각 줄을 하나의 JSON 객체로 변환하여 이 배열에 순서대로 추가한다.\n",
    "3. 개별 메시지 객체 분석:\n",
    "    * 'time': 각 줄의 시작 부분에 있는 대괄호 `[...]` 안의 시간 정보(예: '4 56 PM')를 추출하여 할당한다.\n",
    "    * 'name': 시간 정보 바로 뒤에 나오는 발신자 정보('You' 또는 전화번호)를 추출하여 할당한다.\n",
    "    * 'message': 발신자 정보 뒤에 나오는 해당 줄의 모든 나머지 텍스트를 메시지 내용으로 간주하여 할당한다.\n",
    "\n",
    "### 변환할 대화 내용:\n",
    "{conversation_text}\n",
    "\"\"\"\n",
    "\n",
    "prompt = ChatPromptTemplate.from_template(system_template)\n",
    "chain = prompt | model | StrOutputParser()\n",
    "\n",
    "# --- 3. 데이터프레임을 한 줄씩 처리하고 결과를 리스트에 모으기 ---\n",
    "documents_to_insert = []  # MongoDB에 저장할 문서(딕셔너리)들을 담을 리스트\n",
    "\n",
    "for index, row in data.iterrows():\n",
    "    file_name = row['file_name']\n",
    "    conversation = row['clean_content']\n",
    "\n",
    "\n",
    "    out = chain.invoke({\n",
    "        \"file_name\": re.sub(r'[^\\d\\s]', '', file_name),\n",
    "        \"conversation_text\": conversation\n",
    "    })\n",
    "\n",
    "    print(f\"--- 처리 완료: {file_name} ---\")\n",
    "\n",
    "    # LLM 출력에서 순수 JSON을 추출하고 딕셔너리로 변환\n",
    "    try:\n",
    "        json_match = re.search(r'```json\\s*(\\{.*?\\})\\s*```', out, re.DOTALL)\n",
    "        if json_match:\n",
    "            json_string = json_match.group(1)\n",
    "            py_dict = json.loads(json_string)\n",
    "            documents_to_insert.append(py_dict)\n",
    "        else:\n",
    "             # ```json ``` 형식이 아닐 경우를 대비\n",
    "            py_dict = json.loads(out)\n",
    "            documents_to_insert.append(py_dict)\n",
    "            \n",
    "    except Exception as e:\n",
    "        print(f\"[에러] {file_name} 처리 중 JSON 변환 실패: {e}\")\n",
    "\n",
    "\n",
    "# --- 4. 루프 종료 후, 모아둔 모든 문서를 MongoDB에 한번에 저장 ---\n",
    "if documents_to_insert: \n",
    "    try:\n",
    "        result = collection.insert_many(documents_to_insert)\n",
    "        print(\"\\n\" + \"=\"*50)\n",
    "        print(f\"총 {len(result.inserted_ids)}개의 문서를 MongoDB에 성공적으로 저장했습니다.\")\n",
    "        print(\"=\"*50)\n",
    "    except Exception as e:\n",
    "        print(f\"\\n[에러] MongoDB에 데이터를 저장하는 중 실패했습니다: {e}\")\n",
    "else:\n",
    "    print(\"\\nMongoDB에 저장할 데이터가 없습니다.\")\n",
    "\n",
    "# --- 5. 연결 종료 ---\n",
    "client.close()"
   ]
  },
  {
   "cell_type": "code",
   "execution_count": null,
   "id": "993c3e1f",
   "metadata": {},
   "outputs": [
    {
     "name": "stdout",
     "output_type": "stream",
     "text": [
      "\n",
      "==================================================\n",
      "총 3017개의 문서를 MongoDB에 성공적으로 저장했습니다.\n",
      "==================================================\n"
     ]
    }
   ],
   "source": [
    "# --- 4. 루프 종료 후, 모아둔 모든 문서를 MongoDB에 한번에 저장 ---\n",
    "if documents_to_insert: \n",
    "    try:\n",
    "        result = collection.insert_many(documents_to_insert)\n",
    "        print(\"\\n\" + \"=\"*50)\n",
    "        print(f\"총 {len(result.inserted_ids)}개의 문서를 MongoDB에 성공적으로 저장했습니다.\")\n",
    "        print(\"=\"*50)\n",
    "    except Exception as e:\n",
    "        print(f\"\\n[에러] MongoDB에 데이터를 저장하는 중 실패했습니다: {e}\")\n",
    "else:\n",
    "    print(\"\\nMongoDB에 저장할 데이터가 없습니다.\")\n",
    "\n",
    "# --- 5. 연결 종료 ---\n",
    "client.close()"
   ]
  }
 ],
 "metadata": {
  "kernelspec": {
   "display_name": "Python 3",
   "language": "python",
   "name": "python3"
  },
  "language_info": {
   "codemirror_mode": {
    "name": "ipython",
    "version": 3
   },
   "file_extension": ".py",
   "mimetype": "text/x-python",
   "name": "python",
   "nbconvert_exporter": "python",
   "pygments_lexer": "ipython3",
   "version": "3.11.2"
  }
 },
 "nbformat": 4,
 "nbformat_minor": 5
}
